{
 "cells": [
  {
   "cell_type": "code",
   "execution_count": 6,
   "id": "d3b1a79b",
   "metadata": {},
   "outputs": [
    {
     "name": "stdout",
     "output_type": "stream",
     "text": [
      "F-value: 81.91640721933321\n",
      "p-value: 1.1559982208674906e-24\n"
     ]
    }
   ],
   "source": [
    "#one-way anova 사용\n",
    "\n",
    "import pandas as pd\n",
    "from scipy.stats import f_oneway\n",
    "\n",
    "# CSV 파일 불러오기\n",
    "data = pd.read_csv('for_data - Sheet1.csv')\n",
    "\n",
    "data_cleaned = data.dropna()\n",
    "\n",
    "# 조건에 따른 시간 데이터 추출\n",
    "condition1 = data_cleaned['original car shape']\n",
    "condition2 = data_cleaned['original box car shape']\n",
    "condition3 = data_cleaned['fish shape car']\n",
    "condition4 = data_cleaned['fish motion car']\n",
    "condition5 = data_cleaned['final version']\n",
    "\n",
    "# 일원분산분석(One-way ANOVA)\n",
    "f_value, p_value = f_oneway(condition1, condition2, condition3, condition4, condition5)\n",
    "\n",
    "# 결과 출력\n",
    "print(\"F-value:\", f_value)\n",
    "print(\"p-value:\", p_value)"
   ]
  },
  {
   "cell_type": "code",
   "execution_count": 10,
   "id": "ae9f7c1a",
   "metadata": {},
   "outputs": [
    {
     "name": "stdout",
     "output_type": "stream",
     "text": [
      "F-value: 33.205124042899605\n",
      "p-value: 3.94294857162541e-12\n"
     ]
    }
   ],
   "source": [
    "\n",
    "# 일원분산분석(One-way ANOVA)\n",
    "f_value, p_value = f_oneway(condition1, condition3, condition4, condition5)\n",
    "\n",
    "# 결과 출력\n",
    "print(\"F-value:\", f_value)\n",
    "print(\"p-value:\", p_value)"
   ]
  },
  {
   "cell_type": "code",
   "execution_count": 8,
   "id": "e57035ca",
   "metadata": {},
   "outputs": [
    {
     "name": "stdout",
     "output_type": "stream",
     "text": [
      "t-statistic: 4.825420728467704\n",
      "p-value: 5.3277758265484275e-05\n"
     ]
    }
   ],
   "source": [
    "from scipy.stats import ttest_ind\n",
    "\n",
    "t_statistic, p_value = ttest_ind(condition4, condition5)\n",
    "\n",
    "# 결과 출력\n",
    "print(\"t-statistic:\", t_statistic)\n",
    "print(\"p-value:\", p_value)"
   ]
  }
 ],
 "metadata": {
  "kernelspec": {
   "display_name": "Python 3 (ipykernel)",
   "language": "python",
   "name": "python3"
  },
  "language_info": {
   "codemirror_mode": {
    "name": "ipython",
    "version": 3
   },
   "file_extension": ".py",
   "mimetype": "text/x-python",
   "name": "python",
   "nbconvert_exporter": "python",
   "pygments_lexer": "ipython3",
   "version": "3.10.9"
  }
 },
 "nbformat": 4,
 "nbformat_minor": 5
}
